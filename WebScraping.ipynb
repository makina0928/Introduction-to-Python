{
 "cells": [
  {
   "cell_type": "markdown",
   "id": "2468a4c5-5cb6-4dc6-8c8e-cd0c907b208a",
   "metadata": {},
   "source": [
    "# Assignment Solution\n",
    "## 1. Visit the WHO site and retrieve data about the report title and the year then tabulate the information "
   ]
  },
  {
   "cell_type": "markdown",
   "id": "2ad767ef-5a41-43c1-9fa1-02a307817a4c",
   "metadata": {},
   "source": [
    "## [WHO Statistics Link](https://www.who.int/data/gho/publications/world-health-statistics)"
   ]
  },
  {
   "cell_type": "code",
   "execution_count": 4,
   "id": "13900cd8-2156-430e-abbe-a605b53b1ad5",
   "metadata": {},
   "outputs": [],
   "source": [
    "import requests\n",
    "from bs4 import BeautifulSoup\n",
    "import pandas as pd\n"
   ]
  },
  {
   "cell_type": "code",
   "execution_count": 31,
   "id": "b36037cf-d838-4b16-9d62-239d3d96cc74",
   "metadata": {},
   "outputs": [
    {
     "data": {
      "text/plain": [
       "200"
      ]
     },
     "execution_count": 31,
     "metadata": {},
     "output_type": "execute_result"
    }
   ],
   "source": [
    "# URL to scrape\n",
    "url = 'https://www.who.int/data/gho/publications/world-health-statistics'\n",
    "\n",
    "# Send a GET request to the URL\n",
    "response = requests.get(url)\n",
    "response.status_code"
   ]
  },
  {
   "cell_type": "code",
   "execution_count": 51,
   "id": "e131fd94-7314-43ce-98d8-e07d3e5adb8b",
   "metadata": {},
   "outputs": [
    {
     "name": "stdout",
     "output_type": "stream",
     "text": [
      "World health statistics 2024: monitoring health for the SDGs, sustainable development...\n",
      "World health statistics 2023: monitoring health for the SDGs, sustainable development...\n",
      "World health statistics 2022: monitoring health for the SDGs, sustainable development...\n",
      "World health statistics 2021: monitoring health for the SDGs, sustainable development...\n",
      "World health statistics 2020: monitoring health for the SDGs, sustainable development...\n",
      "World health statistics 2019: monitoring health for the SDGs, sustainable development goals\n",
      "World health statistics 2018: monitoring health for the SDGs, sustainable development goals\n",
      "World health statistics 2017: monitoring health for the SDGs, sustainable development goals\n",
      "World health statistics 2016: monitoring health for the SDGs, sustainable development goals\n",
      "World health statistics 2015\n",
      "World health statistics 2014\n",
      "World health statistics 2013\n",
      "World health statistics 2012\n",
      "World health statistics 2011\n",
      "World health statistics 2010\n",
      "World health statistics 2009\n",
      "World health statistics 2008\n",
      "World health statistics 2007\n",
      "World Health Statistics 2006\n",
      "World health statistics 2005\n"
     ]
    }
   ],
   "source": [
    "# Extract all publication titles\n",
    "publications = soup.find_all('h3', {'class': [\"sf-publications-item__title\", \"sf-publications-wide__title\"]})\n",
    "\n",
    "# Loop through the publications and print the text\n",
    "if publications:\n",
    "    for pub in publications:\n",
    "        print(pub.get_text().strip())\n",
    "else:\n",
    "    print(\"Failed to retrieve the page or no publications found.\")"
   ]
  },
  {
   "cell_type": "code",
   "execution_count": 53,
   "id": "84342310-fac1-4775-b1a2-7535d2dba846",
   "metadata": {},
   "outputs": [
    {
     "name": "stdout",
     "output_type": "stream",
     "text": [
      "21 May 2024\n",
      "19 May 2023\n",
      "19 May 2022\n",
      "20 May 2021\n",
      "13 May 2020\n",
      "21 May 2019\n",
      "17 May 2018\n",
      "26 May 2017\n",
      "1 May 2016\n",
      "8 May 2015\n",
      "14 May 2014\n",
      "16 May 2013\n",
      "16 May 2012\n",
      "19 May 2011\n",
      "30 May 2010\n",
      "19 June 2009\n",
      "27 May 2008\n",
      "21 June 2007\n",
      "15 June 2006\n",
      "16 June 2005\n"
     ]
    }
   ],
   "source": [
    "# Extract all publication dates\n",
    "publications = soup.find_all('div', {'class': [\"sf-publications-wide__date\", \"sf-publications-item__date\"]})\n",
    "\n",
    "# Loop through the publications and print the text\n",
    "if publications:\n",
    "    for pub in publications:\n",
    "        print(pub.get_text().strip())\n",
    "else:\n",
    "    print(\"Failed to retrieve the page or no publications found.\")"
   ]
  },
  {
   "cell_type": "code",
   "execution_count": null,
   "id": "363f30b7-bba8-4944-b41b-cb79cf7ecbd9",
   "metadata": {},
   "outputs": [],
   "source": []
  }
 ],
 "metadata": {
  "kernelspec": {
   "display_name": "Python 3 (ipykernel)",
   "language": "python",
   "name": "python3"
  },
  "language_info": {
   "codemirror_mode": {
    "name": "ipython",
    "version": 3
   },
   "file_extension": ".py",
   "mimetype": "text/x-python",
   "name": "python",
   "nbconvert_exporter": "python",
   "pygments_lexer": "ipython3",
   "version": "3.12.4"
  }
 },
 "nbformat": 4,
 "nbformat_minor": 5
}
